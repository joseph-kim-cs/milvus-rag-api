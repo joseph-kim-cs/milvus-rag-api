{
 "cells": [
  {
   "cell_type": "code",
   "execution_count": null,
   "id": "b49f874b",
   "metadata": {},
   "outputs": [],
   "source": [
    "import requests\n",
    "import json\n",
    "\n",
    "url = \"\"\n",
    "\n",
    "payload = json.dumps({\n",
    "  \"query\": \"who has the highest ROI in WW history?\",\n",
    "  \"collection_name\": \"fightInsights\"\n",
    "})\n",
    "headers = {\n",
    "  'REST_API_KEY': 'secret',\n",
    "  'Content-Type': 'application/json'\n",
    "}\n",
    "\n",
    "response = requests.request(\"POST\", url, headers=headers, data=payload)\n",
    "\n",
    "print(response.text)\n"
   ]
  },
  {
   "cell_type": "code",
   "execution_count": null,
   "id": "83fb6bd1",
   "metadata": {},
   "outputs": [],
   "source": [
    "answer = json.loads(response.text)['data']['llm_response']\n",
    "print(answer)"
   ]
  }
 ],
 "metadata": {
  "kernelspec": {
   "display_name": "Python 3",
   "language": "python",
   "name": "python3"
  },
  "language_info": {
   "codemirror_mode": {
    "name": "ipython",
    "version": 3
   },
   "file_extension": ".py",
   "mimetype": "text/x-python",
   "name": "python",
   "nbconvert_exporter": "python",
   "pygments_lexer": "ipython3",
   "version": "3.13.5"
  }
 },
 "nbformat": 4,
 "nbformat_minor": 5
}
